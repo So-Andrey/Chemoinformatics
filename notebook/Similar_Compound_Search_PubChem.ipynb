{
  "cells": [
    {
      "cell_type": "markdown",
      "id": "6f2c0c41-c3e4-4bc0-97ef-c70cbc58b9f7",
      "metadata": {
        "id": "6f2c0c41-c3e4-4bc0-97ef-c70cbc58b9f7"
      },
      "source": [
        "# Search Similar Compounds Across PubChem Database\n",
        "Hello Everyone, I am **Dr. Ashfaq Ahmad**. I am going to teach you how will you use RDKit in Jupyter Notebook, and to collect similar compounds to your query compound from PubChem (https://pubchem.ncbi.nlm.nih.gov). This notebook is compiled for teaching and academic research purposes.\n",
        "PubChem citation: *PubChem in 2021: Nucleic Acids Res.(2021), 49, D1388–D1395*\n",
        "PubChem database contains chemical molecules and their measured activities against biological assays. It is maintained by the NCBI, which is part of NIH. Currently, It is the world’s largest freely available resource of chemical information and is collected from more than 770 data sources.\n"
      ]
    },
    {
      "cell_type": "code",
      "execution_count": 159,
      "id": "fb72345f-3ffd-4e5a-b46d-239379a22bbc",
      "metadata": {
        "id": "fb72345f-3ffd-4e5a-b46d-239379a22bbc",
        "outputId": "6da8c019-ea4d-4205-d036-1b22b61bf9f2",
        "colab": {
          "base_uri": "https://localhost:8080/"
        }
      },
      "outputs": [
        {
          "output_type": "stream",
          "name": "stdout",
          "text": [
            "Requirement already satisfied: rdkit in /usr/local/lib/python3.11/dist-packages (2025.3.1)\n",
            "Requirement already satisfied: numpy in /usr/local/lib/python3.11/dist-packages (from rdkit) (2.0.2)\n",
            "Requirement already satisfied: Pillow in /usr/local/lib/python3.11/dist-packages (from rdkit) (11.2.1)\n"
          ]
        }
      ],
      "source": [
        "#Install RDKit\n",
        "!pip install rdkit"
      ]
    },
    {
      "cell_type": "markdown",
      "id": "825dcd4f-7abb-4353-ad66-b97ccdf88a30",
      "metadata": {
        "id": "825dcd4f-7abb-4353-ad66-b97ccdf88a30"
      },
      "source": [
        "We will need to import the required libraries to our space."
      ]
    },
    {
      "cell_type": "code",
      "execution_count": 160,
      "id": "6b61fe14-0830-4c32-a551-a83f40ccfc96",
      "metadata": {
        "id": "6b61fe14-0830-4c32-a551-a83f40ccfc96"
      },
      "outputs": [],
      "source": [
        "import time\n",
        "from pathlib import Path\n",
        "from urllib.parse import quote\n",
        "\n",
        "from IPython.display import Markdown, Image\n",
        "import requests\n",
        "import pandas as pd\n",
        "from rdkit import Chem\n",
        "from rdkit.Chem import PandasTools\n",
        "from rdkit.Chem.Draw import MolsToGridImage"
      ]
    },
    {
      "cell_type": "code",
      "execution_count": 161,
      "id": "eebab234-b2e9-49aa-b633-f39c177a44ff",
      "metadata": {
        "id": "eebab234-b2e9-49aa-b633-f39c177a44ff"
      },
      "outputs": [],
      "source": [
        "HERE = Path(_dh[-1])\n",
        "DATA = HERE / \"data\""
      ]
    },
    {
      "cell_type": "markdown",
      "id": "c54c9543-64ab-47bc-a460-d4cd29365047",
      "metadata": {
        "id": "c54c9543-64ab-47bc-a460-d4cd29365047"
      },
      "source": [
        "# Fetching PubChem CID for the compound of interest"
      ]
    },
    {
      "cell_type": "code",
      "execution_count": 162,
      "id": "09a62bbb-3480-48b7-94fc-615043979338",
      "metadata": {
        "id": "09a62bbb-3480-48b7-94fc-615043979338",
        "outputId": "131a101a-8b34-49ae-fc2e-05ba21b6c18c",
        "colab": {
          "base_uri": "https://localhost:8080/"
        }
      },
      "outputs": [
        {
          "output_type": "stream",
          "name": "stdout",
          "text": [
            "PubChem CID for sulfamethoxazole is:\n",
            "5329\n"
          ]
        }
      ],
      "source": [
        "# Get PubChem CID by name\n",
        "name = \"sulfamethoxazole\"\n",
        "\n",
        "url = f\"https://pubchem.ncbi.nlm.nih.gov/rest/pug/compound/name/{name}/cids/JSON\"\n",
        "\n",
        "r = requests.get(url)\n",
        "r.raise_for_status()\n",
        "response = r.json()\n",
        "if \"IdentifierList\" in response:\n",
        "    cid = response[\"IdentifierList\"][\"CID\"][0]\n",
        "else:\n",
        "    raise ValueError(f\"Could not find matches for compound: {name}\")\n",
        "print(f\"PubChem CID for {name} is:\\n{cid}\")\n",
        "# NBVAL_CHECK_OUTPUT"
      ]
    },
    {
      "cell_type": "markdown",
      "id": "2cd62ac7-a690-44d4-a0a7-abe6b75b8f37",
      "metadata": {
        "id": "2cd62ac7-a690-44d4-a0a7-abe6b75b8f37"
      },
      "source": [
        "# Extract molecular properties for a respective PubChem CID\n",
        "We extract interesting properties for a compound using PubChem CID, such as molecular weight, pKd, logP, etc. Here, we will search for the molecular weight for Olaparib. You are suggested to edit the script for a particular property, below, I am showing you only **Molecular weight**."
      ]
    },
    {
      "cell_type": "code",
      "execution_count": 163,
      "id": "bd604807-b0d3-446b-a50f-fa467b655388",
      "metadata": {
        "id": "bd604807-b0d3-446b-a50f-fa467b655388",
        "outputId": "192da84e-5ad9-4a21-cc33-d64527d5462c",
        "colab": {
          "base_uri": "https://localhost:8080/"
        }
      },
      "outputs": [
        {
          "output_type": "stream",
          "name": "stdout",
          "text": [
            "Molecular weight for sulfamethoxazole is:\n",
            "253.28\n"
          ]
        }
      ],
      "source": [
        "# Get mol weight for olaparib\n",
        "url = f\"https://pubchem.ncbi.nlm.nih.gov/rest/pug/compound/cid/{cid}/property/MolecularWeight/JSON\"\n",
        "\n",
        "r = requests.get(url)\n",
        "r.raise_for_status()\n",
        "response = r.json()\n",
        "\n",
        "if \"PropertyTable\" in response:\n",
        "    mol_weight = response[\"PropertyTable\"][\"Properties\"][0][\"MolecularWeight\"]\n",
        "else:\n",
        "    raise ValueError(f\"Could not find matches for PubChem CID: {cid}\")\n",
        "print(f\"Molecular weight for {name} is:\\n{mol_weight}\")\n",
        "# NBVAL_CHECK_OUTPUT"
      ]
    },
    {
      "cell_type": "markdown",
      "id": "debd6e8e-bc33-4193-8431-fdfab2d14dd6",
      "metadata": {
        "id": "debd6e8e-bc33-4193-8431-fdfab2d14dd6"
      },
      "source": [
        "# Show me the 2D structure of my compound"
      ]
    },
    {
      "cell_type": "code",
      "execution_count": 164,
      "id": "b1839497-9f09-4711-85a6-169975b5a131",
      "metadata": {
        "id": "b1839497-9f09-4711-85a6-169975b5a131",
        "outputId": "51c81511-bdb5-436b-e74a-9d7314f6f0ea",
        "colab": {
          "base_uri": "https://localhost:8080/",
          "height": 346
        }
      },
      "outputs": [
        {
          "output_type": "display_data",
          "data": {
            "text/plain": [
              "<IPython.core.display.Markdown object>"
            ],
            "text/markdown": "The 2D structure of Olaparib:"
          },
          "metadata": {}
        },
        {
          "output_type": "display_data",
          "data": {
            "image/png": "[encoded data removed]",
            "text/plain": [
              "<IPython.core.display.Image object>"
            ]
          },
          "metadata": {}
        }
      ],
      "source": [
        "# Get PNG image from PubChem\n",
        "url = f\"https://pubchem.ncbi.nlm.nih.gov/rest/pug/compound/cid/{cid}/PNG\"\n",
        "\n",
        "r = requests.get(url)\n",
        "r.raise_for_status()\n",
        "\n",
        "display(Markdown(\"The 2D structure of Olaparib:\"))\n",
        "display(Image(r.content))"
      ]
    },
    {
      "cell_type": "markdown",
      "id": "6775f7a8-d7ec-4c9c-99ba-ad93b7e8bed2",
      "metadata": {
        "id": "6775f7a8-d7ec-4c9c-99ba-ad93b7e8bed2"
      },
      "source": [
        "# Search of Query compounds for similarity search\n",
        "The below script will perform the Tanimoto-based similarity search. The 2D PubChem fingerprints will be calculated first. For more information, abount fingerprints, it is highly advised to read (https://jcheminf.biomedcentral.com/articles/10.1186/s13321-016-0163-1)."
      ]
    },
    {
      "cell_type": "markdown",
      "id": "abf9e0da-17d1-4b41-af00-5d717a42d615",
      "metadata": {
        "id": "abf9e0da-17d1-4b41-af00-5d717a42d615"
      },
      "source": [
        "# Fetching of Query Compound"
      ]
    },
    {
      "cell_type": "code",
      "execution_count": 165,
      "id": "e79c458f-658c-4163-9d29-2a89c92c92aa",
      "metadata": {
        "id": "e79c458f-658c-4163-9d29-2a89c92c92aa",
        "outputId": "4020bdc6-64f9-4c83-8277-d3136e024482",
        "colab": {
          "base_uri": "https://localhost:8080/",
          "height": 184
        }
      },
      "outputs": [
        {
          "output_type": "stream",
          "name": "stdout",
          "text": [
            "The structure of olaparib:\n"
          ]
        },
        {
          "output_type": "execute_result",
          "data": {
            "text/plain": [
              "<rdkit.Chem.rdchem.Mol at 0x7c8a5a4604a0>"
            ],
            "image/png": "[encoded data removed]"
          },
          "metadata": {},
          "execution_count": 165
        }
      ],
      "source": [
        "query = \"CC1=CC(=NO1)NS(=O)(=O)C2=CC=C(C=C2)N\"  # sulfamethoxazole\n",
        "print(\"The structure of olaparib:\")\n",
        "Chem.MolFromSmiles(query)"
      ]
    },
    {
      "cell_type": "markdown",
      "id": "f16a73d2-93b3-47c0-bfed-33f96c18ab1e",
      "metadata": {
        "id": "f16a73d2-93b3-47c0-bfed-33f96c18ab1e"
      },
      "source": [
        "# Creating a job key\n",
        "The following script will create a job key as per your requiremnts. You can adjust the similarity threshould, and n_recods you expect. In this example we are using threshould value of 75, and n_record value of 10."
      ]
    },
    {
      "cell_type": "code",
      "execution_count": 166,
      "id": "869e9947-ac9c-4c40-b5e6-7a6a1b5d8b68",
      "metadata": {
        "id": "869e9947-ac9c-4c40-b5e6-7a6a1b5d8b68"
      },
      "outputs": [],
      "source": [
        "def query_pubchem_for_similar_compounds(smiles, threshold=75, n_records=22):\n",
        "    \"\"\"\n",
        "    Query PubChem for similar compounds and return the job key.\n",
        "\n",
        "    Parameters\n",
        "    ----------\n",
        "    smiles : str\n",
        "        The canonical SMILES string for the given compound.\n",
        "    threshold : int\n",
        "        The threshold of similarity, default 75%. In PubChem, the default threshold is 90%.\n",
        "    n_records : int\n",
        "        The maximum number of feedback records.\n",
        "\n",
        "    Returns\n",
        "    -------\n",
        "    str\n",
        "        The job key from the PubChem web service.\n",
        "    \"\"\"\n",
        "    escaped_smiles = quote(smiles).replace(\"/\", \".\")\n",
        "    url = f\"https://pubchem.ncbi.nlm.nih.gov/rest/pug/compound/similarity/smiles/{escaped_smiles}/JSON?Threshold={threshold}&MaxRecords={n_records}\"\n",
        "    r = requests.get(url)\n",
        "    r.raise_for_status()\n",
        "    key = r.json()[\"Waiting\"][\"ListKey\"]\n",
        "    return key"
      ]
    },
    {
      "cell_type": "code",
      "execution_count": 167,
      "id": "c0d66eb2-c658-4bfc-9a3d-a2ca6dabda65",
      "metadata": {
        "id": "c0d66eb2-c658-4bfc-9a3d-a2ca6dabda65"
      },
      "outputs": [],
      "source": [
        "job_key = query_pubchem_for_similar_compounds(query)"
      ]
    },
    {
      "cell_type": "markdown",
      "id": "5342cc3f-d21a-459b-baac-11563b2cfe4b",
      "metadata": {
        "id": "5342cc3f-d21a-459b-baac-11563b2cfe4b"
      },
      "source": [
        "# Download your results"
      ]
    },
    {
      "cell_type": "code",
      "execution_count": 168,
      "id": "62a8b39c-3e9a-41d2-8cb4-b539042ab3d9",
      "metadata": {
        "id": "62a8b39c-3e9a-41d2-8cb4-b539042ab3d9"
      },
      "outputs": [],
      "source": [
        "def check_and_download(key, attempts=30):\n",
        "    \"\"\"\n",
        "    Check job status and download PubChem CIDs when the job finished\n",
        "\n",
        "    Parameters\n",
        "    ----------\n",
        "    key : str\n",
        "        The job key of the PubChem service.\n",
        "    attempts : int\n",
        "        The time waiting for the feedback from the PubChem service.\n",
        "\n",
        "    Returns\n",
        "    -------\n",
        "    list\n",
        "        The PubChem CIDs of similar compounds.\n",
        "    \"\"\"\n",
        "    url = f\"https://pubchem.ncbi.nlm.nih.gov/rest/pug/compound/listkey/{key}/cids/JSON\"\n",
        "    print(f\"Querying for job {key} at URL {url}...\", end=\"\")\n",
        "    while attempts:\n",
        "        r = requests.get(url)\n",
        "        r.raise_for_status()\n",
        "        response = r.json()\n",
        "        if \"IdentifierList\" in response:\n",
        "            cids = response[\"IdentifierList\"][\"CID\"]\n",
        "            break\n",
        "        attempts -= 1\n",
        "        print(\".\", end=\"\")\n",
        "        time.sleep(10)\n",
        "    else:\n",
        "        raise ValueError(f\"Could not find matches for job key: {key}\")\n",
        "    return cids"
      ]
    },
    {
      "cell_type": "code",
      "execution_count": 169,
      "id": "c5621900-63a9-46e5-a7b4-d13b8436b808",
      "metadata": {
        "id": "c5621900-63a9-46e5-a7b4-d13b8436b808",
        "outputId": "2545d1ac-91bd-4900-cf84-3207070696cf",
        "colab": {
          "base_uri": "https://localhost:8080/"
        }
      },
      "outputs": [
        {
          "output_type": "stream",
          "name": "stdout",
          "text": [
            "Querying for job 100849445877727418 at URL https://pubchem.ncbi.nlm.nih.gov/rest/pug/compound/listkey/100849445877727418/cids/JSON...."
          ]
        }
      ],
      "source": [
        "similar_cids = check_and_download(job_key)"
      ]
    },
    {
      "cell_type": "markdown",
      "id": "551e0232-c77e-4e08-9de9-5106db228ad0",
      "metadata": {
        "id": "551e0232-c77e-4e08-9de9-5106db228ad0"
      },
      "source": [
        "# Retrieve Canonical_Smiles of the molecules"
      ]
    },
    {
      "cell_type": "code",
      "execution_count": 170,
      "id": "607479f4-69e8-4833-b897-278615ae18b4",
      "metadata": {
        "id": "607479f4-69e8-4833-b897-278615ae18b4"
      },
      "outputs": [],
      "source": [
        "def smiles_from_pubchem_cids(cids):\n",
        "    \"\"\"\n",
        "    Get the canonical SMILES string from the PubChem CIDs.\n",
        "\n",
        "    Parameters\n",
        "    ----------\n",
        "    cids : list\n",
        "        A list of PubChem CIDs.\n",
        "\n",
        "    Returns\n",
        "    -------\n",
        "    list\n",
        "        The canonical SMILES strings of the PubChem CIDs.\n",
        "    \"\"\"\n",
        "    url = f\"https://pubchem.ncbi.nlm.nih.gov/rest/pug/compound/cid/{','.join(map(str, cids))}/property/CanonicalSMILES/JSON\"\n",
        "    r = requests.get(url)\n",
        "    r.raise_for_status()\n",
        "    return [item[\"CanonicalSMILES\"] for item in r.json()[\"PropertyTable\"][\"Properties\"]]"
      ]
    },
    {
      "cell_type": "code",
      "execution_count": 171,
      "id": "47e5e69a-a345-4d56-96f2-c0253733cc5d",
      "metadata": {
        "id": "47e5e69a-a345-4d56-96f2-c0253733cc5d"
      },
      "outputs": [],
      "source": [
        "similar_smiles = smiles_from_pubchem_cids(similar_cids)"
      ]
    },
    {
      "cell_type": "code",
      "execution_count": 172,
      "id": "92c557a9-530a-4e8a-97b2-9417ddddf48b",
      "metadata": {
        "id": "92c557a9-530a-4e8a-97b2-9417ddddf48b",
        "outputId": "9b7d1da5-46c7-4bb0-93b4-7f0387f9cfa1",
        "colab": {
          "base_uri": "https://localhost:8080/",
          "height": 238
        }
      },
      "outputs": [
        {
          "output_type": "execute_result",
          "data": {
            "text/plain": [
              "                                          smiles    CIDs  \\\n",
              "0           CC1=CC(=NO1)NS(=O)(=O)C2=CC=C(C=C2)N    5329   \n",
              "1          CC1=C(ON=C1C)NS(=O)(=O)C2=CC=C(C=C2)N    5344   \n",
              "2  CC1=C(ON=C1C)N(C(=O)C)S(=O)(=O)C2=CC=C(C=C2)N    6662   \n",
              "3     CC1=CC(=NO1)NS(=O)(=O)C2=CC=C(C=C2)NC(=O)C   65280   \n",
              "4          CC1=CC(=NO1)NS(=O)(=O)C2=CC=C(C=C2)NO  114821   \n",
              "5              CC1=CC(=NO1)NC(=O)NC2=CC=C(C=C2)F   99331   \n",
              "\n",
              "                                              ROMol  \n",
              "0  <rdkit.Chem.rdchem.Mol object at 0x7c8a5a320040>  \n",
              "1  <rdkit.Chem.rdchem.Mol object at 0x7c8a5a3207b0>  \n",
              "2  <rdkit.Chem.rdchem.Mol object at 0x7c8a5a321070>  \n",
              "3  <rdkit.Chem.rdchem.Mol object at 0x7c8a5a321000>  \n",
              "4  <rdkit.Chem.rdchem.Mol object at 0x7c8a5a320120>  \n",
              "5  <rdkit.Chem.rdchem.Mol object at 0x7c8a5a3204a0>  "
            ],
            "text/html": [
              "\n",
              "  <div id=\"df-550918f1-a909-4d04-bb98-44fd9a070d01\" class=\"colab-df-container\">\n",
              "    <div>\n",
              "<style scoped>\n",
              "    .dataframe tbody tr th:only-of-type {\n",
              "        vertical-align: middle;\n",
              "    }\n",
              "\n",
              "    .dataframe tbody tr th {\n",
              "        vertical-align: top;\n",
              "    }\n",
              "\n",
              "    .dataframe thead th {\n",
              "        text-align: right;\n",
              "    }\n",
              "</style>\n",
              "<table border=\"1\" class=\"dataframe\">\n",
              "  <thead>\n",
              "    <tr style=\"text-align: right;\">\n",
              "      <th></th>\n",
              "      <th>smiles</th>\n",
              "      <th>CIDs</th>\n",
              "      <th>ROMol</th>\n",
              "    </tr>\n",
              "  </thead>\n",
              "  <tbody>\n",
              "    <tr>\n",
              "      <th>0</th>\n",
              "      <td>CC1=CC(=NO1)NS(=O)(=O)C2=CC=C(C=C2)N</td>\n",
              "      <td>5329</td>\n",
              "      <td>&lt;rdkit.Chem.rdchem.Mol object at 0x7c8a5a320040&gt;</td>\n",
              "    </tr>\n",
              "    <tr>\n",
              "      <th>1</th>\n",
              "      <td>CC1=C(ON=C1C)NS(=O)(=O)C2=CC=C(C=C2)N</td>\n",
              "      <td>5344</td>\n",
              "      <td>&lt;rdkit.Chem.rdchem.Mol object at 0x7c8a5a3207b0&gt;</td>\n",
              "    </tr>\n",
              "    <tr>\n",
              "      <th>2</th>\n",
              "      <td>CC1=C(ON=C1C)N(C(=O)C)S(=O)(=O)C2=CC=C(C=C2)N</td>\n",
              "      <td>6662</td>\n",
              "      <td>&lt;rdkit.Chem.rdchem.Mol object at 0x7c8a5a321070&gt;</td>\n",
              "    </tr>\n",
              "    <tr>\n",
              "      <th>3</th>\n",
              "      <td>CC1=CC(=NO1)NS(=O)(=O)C2=CC=C(C=C2)NC(=O)C</td>\n",
              "      <td>65280</td>\n",
              "      <td>&lt;rdkit.Chem.rdchem.Mol object at 0x7c8a5a321000&gt;</td>\n",
              "    </tr>\n",
              "    <tr>\n",
              "      <th>4</th>\n",
              "      <td>CC1=CC(=NO1)NS(=O)(=O)C2=CC=C(C=C2)NO</td>\n",
              "      <td>114821</td>\n",
              "      <td>&lt;rdkit.Chem.rdchem.Mol object at 0x7c8a5a320120&gt;</td>\n",
              "    </tr>\n",
              "    <tr>\n",
              "      <th>5</th>\n",
              "      <td>CC1=CC(=NO1)NC(=O)NC2=CC=C(C=C2)F</td>\n",
              "      <td>99331</td>\n",
              "      <td>&lt;rdkit.Chem.rdchem.Mol object at 0x7c8a5a3204a0&gt;</td>\n",
              "    </tr>\n",
              "  </tbody>\n",
              "</table>\n",
              "</div>\n",
              "    <div class=\"colab-df-buttons\">\n",
              "\n",
              "  <div class=\"colab-df-container\">\n",
              "    <button class=\"colab-df-convert\" onclick=\"convertToInteractive('df-550918f1-a909-4d04-bb98-44fd9a070d01')\"\n",
              "            title=\"Convert this dataframe to an interactive table.\"\n",
              "            style=\"display:none;\">\n",
              "\n",
              "  <svg xmlns=\"http://www.w3.org/2000/svg\" height=\"24px\" viewBox=\"0 -960 960 960\">\n",
              "    <path d=\"M120-120v-720h720v720H120Zm60-500h600v-160H180v160Zm220 220h160v-160H400v160Zm0 220h160v-160H400v160ZM180-400h160v-160H180v160Zm440 0h160v-160H620v160ZM180-180h160v-160H180v160Zm440 0h160v-160H620v160Z\"/>\n",
              "  </svg>\n",
              "    </button>\n",
              "\n",
              "  <style>\n",
              "    .colab-df-container {\n",
              "      display:flex;\n",
              "      gap: 12px;\n",
              "    }\n",
              "\n",
              "    .colab-df-convert {\n",
              "      background-color: #E8F0FE;\n",
              "      border: none;\n",
              "      border-radius: 50%;\n",
              "      cursor: pointer;\n",
              "      display: none;\n",
              "      fill: #1967D2;\n",
              "      height: 32px;\n",
              "      padding: 0 0 0 0;\n",
              "      width: 32px;\n",
              "    }\n",
              "\n",
              "    .colab-df-convert:hover {\n",
              "      background-color: #E2EBFA;\n",
              "      box-shadow: 0px 1px 2px rgba(60, 64, 67, 0.3), 0px 1px 3px 1px rgba(60, 64, 67, 0.15);\n",
              "      fill: #174EA6;\n",
              "    }\n",
              "\n",
              "    .colab-df-buttons div {\n",
              "      margin-bottom: 4px;\n",
              "    }\n",
              "\n",
              "    [theme=dark] .colab-df-convert {\n",
              "      background-color: #3B4455;\n",
              "      fill: #D2E3FC;\n",
              "    }\n",
              "\n",
              "    [theme=dark] .colab-df-convert:hover {\n",
              "      background-color: #434B5C;\n",
              "      box-shadow: 0px 1px 3px 1px rgba(0, 0, 0, 0.15);\n",
              "      filter: drop-shadow(0px 1px 2px rgba(0, 0, 0, 0.3));\n",
              "      fill: #FFFFFF;\n",
              "    }\n",
              "  </style>\n",
              "\n",
              "    <script>\n",
              "      const buttonEl =\n",
              "        document.querySelector('#df-550918f1-a909-4d04-bb98-44fd9a070d01 button.colab-df-convert');\n",
              "      buttonEl.style.display =\n",
              "        google.colab.kernel.accessAllowed ? 'block' : 'none';\n",
              "\n",
              "      async function convertToInteractive(key) {\n",
              "        const element = document.querySelector('#df-550918f1-a909-4d04-bb98-44fd9a070d01');\n",
              "        const dataTable =\n",
              "          await google.colab.kernel.invokeFunction('convertToInteractive',\n",
              "                                                    [key], {});\n",
              "        if (!dataTable) return;\n",
              "\n",
              "        const docLinkHtml = 'Like what you see? Visit the ' +\n",
              "          '<a target=\"_blank\" href=https://colab.research.google.com/notebooks/data_table.ipynb>data table notebook</a>'\n",
              "          + ' to learn more about interactive tables.';\n",
              "        element.innerHTML = '';\n",
              "        dataTable['output_type'] = 'display_data';\n",
              "        await google.colab.output.renderOutput(dataTable, element);\n",
              "        const docLink = document.createElement('div');\n",
              "        docLink.innerHTML = docLinkHtml;\n",
              "        element.appendChild(docLink);\n",
              "      }\n",
              "    </script>\n",
              "  </div>\n",
              "\n",
              "\n",
              "    <div id=\"df-0e45fb44-bdf3-4e8d-91c8-451d7050b0e4\">\n",
              "      <button class=\"colab-df-quickchart\" onclick=\"quickchart('df-0e45fb44-bdf3-4e8d-91c8-451d7050b0e4')\"\n",
              "                title=\"Suggest charts\"\n",
              "                style=\"display:none;\">\n",
              "\n",
              "<svg xmlns=\"http://www.w3.org/2000/svg\" height=\"24px\"viewBox=\"0 0 24 24\"\n",
              "     width=\"24px\">\n",
              "    <g>\n",
              "        <path d=\"M19 3H5c-1.1 0-2 .9-2 2v14c0 1.1.9 2 2 2h14c1.1 0 2-.9 2-2V5c0-1.1-.9-2-2-2zM9 17H7v-7h2v7zm4 0h-2V7h2v10zm4 0h-2v-4h2v4z\"/>\n",
              "    </g>\n",
              "</svg>\n",
              "      </button>\n",
              "\n",
              "<style>\n",
              "  .colab-df-quickchart {\n",
              "      --bg-color: #E8F0FE;\n",
              "      --fill-color: #1967D2;\n",
              "      --hover-bg-color: #E2EBFA;\n",
              "      --hover-fill-color: #174EA6;\n",
              "      --disabled-fill-color: #AAA;\n",
              "      --disabled-bg-color: #DDD;\n",
              "  }\n",
              "\n",
              "  [theme=dark] .colab-df-quickchart {\n",
              "      --bg-color: #3B4455;\n",
              "      --fill-color: #D2E3FC;\n",
              "      --hover-bg-color: #434B5C;\n",
              "      --hover-fill-color: #FFFFFF;\n",
              "      --disabled-bg-color: #3B4455;\n",
              "      --disabled-fill-color: #666;\n",
              "  }\n",
              "\n",
              "  .colab-df-quickchart {\n",
              "    background-color: var(--bg-color);\n",
              "    border: none;\n",
              "    border-radius: 50%;\n",
              "    cursor: pointer;\n",
              "    display: none;\n",
              "    fill: var(--fill-color);\n",
              "    height: 32px;\n",
              "    padding: 0;\n",
              "    width: 32px;\n",
              "  }\n",
              "\n",
              "  .colab-df-quickchart:hover {\n",
              "    background-color: var(--hover-bg-color);\n",
              "    box-shadow: 0 1px 2px rgba(60, 64, 67, 0.3), 0 1px 3px 1px rgba(60, 64, 67, 0.15);\n",
              "    fill: var(--button-hover-fill-color);\n",
              "  }\n",
              "\n",
              "  .colab-df-quickchart-complete:disabled,\n",
              "  .colab-df-quickchart-complete:disabled:hover {\n",
              "    background-color: var(--disabled-bg-color);\n",
              "    fill: var(--disabled-fill-color);\n",
              "    box-shadow: none;\n",
              "  }\n",
              "\n",
              "  .colab-df-spinner {\n",
              "    border: 2px solid var(--fill-color);\n",
              "    border-color: transparent;\n",
              "    border-bottom-color: var(--fill-color);\n",
              "    animation:\n",
              "      spin 1s steps(1) infinite;\n",
              "  }\n",
              "\n",
              "  @keyframes spin {\n",
              "    0% {\n",
              "      border-color: transparent;\n",
              "      border-bottom-color: var(--fill-color);\n",
              "      border-left-color: var(--fill-color);\n",
              "    }\n",
              "    20% {\n",
              "      border-color: transparent;\n",
              "      border-left-color: var(--fill-color);\n",
              "      border-top-color: var(--fill-color);\n",
              "    }\n",
              "    30% {\n",
              "      border-color: transparent;\n",
              "      border-left-color: var(--fill-color);\n",
              "      border-top-color: var(--fill-color);\n",
              "      border-right-color: var(--fill-color);\n",
              "    }\n",
              "    40% {\n",
              "      border-color: transparent;\n",
              "      border-right-color: var(--fill-color);\n",
              "      border-top-color: var(--fill-color);\n",
              "    }\n",
              "    60% {\n",
              "      border-color: transparent;\n",
              "      border-right-color: var(--fill-color);\n",
              "    }\n",
              "    80% {\n",
              "      border-color: transparent;\n",
              "      border-right-color: var(--fill-color);\n",
              "      border-bottom-color: var(--fill-color);\n",
              "    }\n",
              "    90% {\n",
              "      border-color: transparent;\n",
              "      border-bottom-color: var(--fill-color);\n",
              "    }\n",
              "  }\n",
              "</style>\n",
              "\n",
              "      <script>\n",
              "        async function quickchart(key) {\n",
              "          const quickchartButtonEl =\n",
              "            document.querySelector('#' + key + ' button');\n",
              "          quickchartButtonEl.disabled = true;  // To prevent multiple clicks.\n",
              "          quickchartButtonEl.classList.add('colab-df-spinner');\n",
              "          try {\n",
              "            const charts = await google.colab.kernel.invokeFunction(\n",
              "                'suggestCharts', [key], {});\n",
              "          } catch (error) {\n",
              "            console.error('Error during call to suggestCharts:', error);\n",
              "          }\n",
              "          quickchartButtonEl.classList.remove('colab-df-spinner');\n",
              "          quickchartButtonEl.classList.add('colab-df-quickchart-complete');\n",
              "        }\n",
              "        (() => {\n",
              "          let quickchartButtonEl =\n",
              "            document.querySelector('#df-0e45fb44-bdf3-4e8d-91c8-451d7050b0e4 button');\n",
              "          quickchartButtonEl.style.display =\n",
              "            google.colab.kernel.accessAllowed ? 'block' : 'none';\n",
              "        })();\n",
              "      </script>\n",
              "    </div>\n",
              "    </div>\n",
              "  </div>\n"
            ],
            "application/vnd.google.colaboratory.intrinsic+json": {
              "type": "dataframe",
              "variable_name": "query_results_df",
              "summary": "{\n  \"name\": \"query_results_df\",\n  \"rows\": 22,\n  \"fields\": [\n    {\n      \"column\": \"smiles\",\n      \"properties\": {\n        \"dtype\": \"string\",\n        \"num_unique_values\": 22,\n        \"samples\": [\n          \"CC1=CC(=NO1)NS(=O)(=O)C2=CC=C(C=C2)N\",\n          \"CC1=CC(=NO1)NS(=O)(=O)C2=CC=C(C=C2)NC(=O)C3CCCCC3\",\n          \"CC1=CC(=NO1)NS(=O)(=O)C2=CC(=C(C=C2Cl)Cl)Cl\"\n        ],\n        \"semantic_type\": \"\",\n        \"description\": \"\"\n      }\n    },\n    {\n      \"column\": \"CIDs\",\n      \"properties\": {\n        \"dtype\": \"number\",\n        \"std\": 9870547,\n        \"min\": 5329,\n        \"max\": 46890018,\n        \"num_unique_values\": 22,\n        \"samples\": [\n          5329,\n          1181036,\n          4596756\n        ],\n        \"semantic_type\": \"\",\n        \"description\": \"\"\n      }\n    },\n    {\n      \"column\": \"ROMol\",\n      \"properties\": {\n        \"dtype\": \"string\",\n        \"num_unique_values\": 22,\n        \"samples\": [\n          \"<rdkit.Chem.rdchem.Mol object at 0x7c8a5a320040>\",\n          \"<rdkit.Chem.rdchem.Mol object at 0x7c8a5a321850>\",\n          \"<rdkit.Chem.rdchem.Mol object at 0x7c8a5a3209e0>\"\n        ],\n        \"semantic_type\": \"\",\n        \"description\": \"\"\n      }\n    }\n  ]\n}"
            }
          },
          "metadata": {},
          "execution_count": 172
        }
      ],
      "source": [
        "query_results_df = pd.DataFrame({\"smiles\": similar_smiles, \"CIDs\": similar_cids})\n",
        "PandasTools.AddMoleculeColumnToFrame(query_results_df, smilesCol=\"smiles\")\n",
        "query_results_df.head(6)"
      ]
    },
    {
      "cell_type": "markdown",
      "source": [
        "46890018 не был использован, так как на PubChem нету его 3D Conformer\n",
        "\n",
        "5329 не был использован, так как это и есть наш sulfamethoxazole"
      ],
      "metadata": {
        "id": "w3RVmbvPfRdy"
      },
      "id": "w3RVmbvPfRdy"
    },
    {
      "cell_type": "code",
      "source": [
        "query_results_df = query_results_df.drop(\n",
        "    query_results_df[query_results_df['CIDs'].isin([5329, 46890018])].index\n",
        ")\n",
        "query_results_df"
      ],
      "metadata": {
        "id": "D8s6eaZicwoC",
        "outputId": "76d1e51b-419e-49d4-f8b8-375517d96c0e",
        "colab": {
          "base_uri": "https://localhost:8080/",
          "height": 1000
        }
      },
      "id": "D8s6eaZicwoC",
      "execution_count": 173,
      "outputs": [
        {
          "output_type": "execute_result",
          "data": {
            "text/plain": [
              "                                               smiles     CIDs  \\\n",
              "1               CC1=C(ON=C1C)NS(=O)(=O)C2=CC=C(C=C2)N     5344   \n",
              "2       CC1=C(ON=C1C)N(C(=O)C)S(=O)(=O)C2=CC=C(C=C2)N     6662   \n",
              "3          CC1=CC(=NO1)NS(=O)(=O)C2=CC=C(C=C2)NC(=O)C    65280   \n",
              "4               CC1=CC(=NO1)NS(=O)(=O)C2=CC=C(C=C2)NO   114821   \n",
              "5                   CC1=CC(=NO1)NC(=O)NC2=CC=C(C=C2)F    99331   \n",
              "6              CC1=CC(=NO1)NS(=O)(=O)C2=CC=C(C=C2)N=O   125483   \n",
              "7                CC1=CC=C(C=C1)S(=O)(=O)NC2=NOC(=C2)C   705643   \n",
              "8         CC1=CC(=NO1)NS(=O)(=O)C2=CC(=C(C=C2Cl)Cl)Cl  4596756   \n",
              "9               CC1=C(ON=C1NS(=O)(=O)C2=CC=C(C=C2)N)C    31771   \n",
              "11         CC1=CC(=C(C(=C1)C)S(=O)(=O)NC2=NOC(=C2)C)C   577223   \n",
              "12              CC1=CC(=NO1)NS(=O)(=O)C2=CC=C(C=C2)OC   694829   \n",
              "13  CC1=CC(=NO1)NS(=O)(=O)C2=CC=C(C=C2)NC(=O)C3CCCCC3  1181036   \n",
              "14    CC1=C(ON=C1C)NS(=O)(=O)C2=CC=C(C=C2)NC(=O)C(C)C   678193   \n",
              "15              CC(C)(C)C1=CC(=NO1)NC(=O)NC2=CC=CC=C2  2813558   \n",
              "16                 C1=CC(=CC=C1S(=O)(=O)NC2=NOC=C2)Br  6470079   \n",
              "17  CCCC(=O)NC(C(F)(F)F)(C(F)(F)F)NC1=CC=C(C=C1)S(...   536471   \n",
              "18            CCCCC1=CC=C(C=C1)S(=O)(=O)NC2=NOC(=C2)C   562945   \n",
              "19  CC1=CC(=NO1)NS(=O)(=O)C2=CC=C(C=C2)NC(=S)NC(=O...  1949759   \n",
              "20                  CC1=CC=C(C=C1)NC(=S)NC2=NOC(=C2)C  2730383   \n",
              "21  CC1=CC=C(C=C1)S(=O)(=O)NC(=O)NC2=NOC(=C2)C(C)(C)C  2813928   \n",
              "\n",
              "                                               ROMol  \n",
              "1   <rdkit.Chem.rdchem.Mol object at 0x7c8a5a3207b0>  \n",
              "2   <rdkit.Chem.rdchem.Mol object at 0x7c8a5a321070>  \n",
              "3   <rdkit.Chem.rdchem.Mol object at 0x7c8a5a321000>  \n",
              "4   <rdkit.Chem.rdchem.Mol object at 0x7c8a5a320120>  \n",
              "5   <rdkit.Chem.rdchem.Mol object at 0x7c8a5a3204a0>  \n",
              "6   <rdkit.Chem.rdchem.Mol object at 0x7c8a5a320660>  \n",
              "7   <rdkit.Chem.rdchem.Mol object at 0x7c8a5a320970>  \n",
              "8   <rdkit.Chem.rdchem.Mol object at 0x7c8a5a3209e0>  \n",
              "9   <rdkit.Chem.rdchem.Mol object at 0x7c8a5a322340>  \n",
              "11  <rdkit.Chem.rdchem.Mol object at 0x7c8a5a321930>  \n",
              "12  <rdkit.Chem.rdchem.Mol object at 0x7c8a5a3218c0>  \n",
              "13  <rdkit.Chem.rdchem.Mol object at 0x7c8a5a321850>  \n",
              "14  <rdkit.Chem.rdchem.Mol object at 0x7c8a5a321770>  \n",
              "15  <rdkit.Chem.rdchem.Mol object at 0x7c8a5a320d60>  \n",
              "16  <rdkit.Chem.rdchem.Mol object at 0x7c8a5a3206d0>  \n",
              "17  <rdkit.Chem.rdchem.Mol object at 0x7c8a5a320ba0>  \n",
              "18  <rdkit.Chem.rdchem.Mol object at 0x7c8a5a320b30>  \n",
              "19  <rdkit.Chem.rdchem.Mol object at 0x7c8a5a320ac0>  \n",
              "20  <rdkit.Chem.rdchem.Mol object at 0x7c8a5a320900>  \n",
              "21  <rdkit.Chem.rdchem.Mol object at 0x7c8a5a320510>  "
            ],
            "text/html": [
              "\n",
              "  <div id=\"df-839f0748-125a-4af9-9a9b-526ab277c8ac\" class=\"colab-df-container\">\n",
              "    <div>\n",
              "<style scoped>\n",
              "    .dataframe tbody tr th:only-of-type {\n",
              "        vertical-align: middle;\n",
              "    }\n",
              "\n",
              "    .dataframe tbody tr th {\n",
              "        vertical-align: top;\n",
              "    }\n",
              "\n",
              "    .dataframe thead th {\n",
              "        text-align: right;\n",
              "    }\n",
              "</style>\n",
              "<table border=\"1\" class=\"dataframe\">\n",
              "  <thead>\n",
              "    <tr style=\"text-align: right;\">\n",
              "      <th></th>\n",
              "      <th>smiles</th>\n",
              "      <th>CIDs</th>\n",
              "      <th>ROMol</th>\n",
              "    </tr>\n",
              "  </thead>\n",
              "  <tbody>\n",
              "    <tr>\n",
              "      <th>1</th>\n",
              "      <td>CC1=C(ON=C1C)NS(=O)(=O)C2=CC=C(C=C2)N</td>\n",
              "      <td>5344</td>\n",
              "      <td>&lt;rdkit.Chem.rdchem.Mol object at 0x7c8a5a3207b0&gt;</td>\n",
              "    </tr>\n",
              "    <tr>\n",
              "      <th>2</th>\n",
              "      <td>CC1=C(ON=C1C)N(C(=O)C)S(=O)(=O)C2=CC=C(C=C2)N</td>\n",
              "      <td>6662</td>\n",
              "      <td>&lt;rdkit.Chem.rdchem.Mol object at 0x7c8a5a321070&gt;</td>\n",
              "    </tr>\n",
              "    <tr>\n",
              "      <th>3</th>\n",
              "      <td>CC1=CC(=NO1)NS(=O)(=O)C2=CC=C(C=C2)NC(=O)C</td>\n",
              "      <td>65280</td>\n",
              "      <td>&lt;rdkit.Chem.rdchem.Mol object at 0x7c8a5a321000&gt;</td>\n",
              "    </tr>\n",
              "    <tr>\n",
              "      <th>4</th>\n",
              "      <td>CC1=CC(=NO1)NS(=O)(=O)C2=CC=C(C=C2)NO</td>\n",
              "      <td>114821</td>\n",
              "      <td>&lt;rdkit.Chem.rdchem.Mol object at 0x7c8a5a320120&gt;</td>\n",
              "    </tr>\n",
              "    <tr>\n",
              "      <th>5</th>\n",
              "      <td>CC1=CC(=NO1)NC(=O)NC2=CC=C(C=C2)F</td>\n",
              "      <td>99331</td>\n",
              "      <td>&lt;rdkit.Chem.rdchem.Mol object at 0x7c8a5a3204a0&gt;</td>\n",
              "    </tr>\n",
              "    <tr>\n",
              "      <th>6</th>\n",
              "      <td>CC1=CC(=NO1)NS(=O)(=O)C2=CC=C(C=C2)N=O</td>\n",
              "      <td>125483</td>\n",
              "      <td>&lt;rdkit.Chem.rdchem.Mol object at 0x7c8a5a320660&gt;</td>\n",
              "    </tr>\n",
              "    <tr>\n",
              "      <th>7</th>\n",
              "      <td>CC1=CC=C(C=C1)S(=O)(=O)NC2=NOC(=C2)C</td>\n",
              "      <td>705643</td>\n",
              "      <td>&lt;rdkit.Chem.rdchem.Mol object at 0x7c8a5a320970&gt;</td>\n",
              "    </tr>\n",
              "    <tr>\n",
              "      <th>8</th>\n",
              "      <td>CC1=CC(=NO1)NS(=O)(=O)C2=CC(=C(C=C2Cl)Cl)Cl</td>\n",
              "      <td>4596756</td>\n",
              "      <td>&lt;rdkit.Chem.rdchem.Mol object at 0x7c8a5a3209e0&gt;</td>\n",
              "    </tr>\n",
              "    <tr>\n",
              "      <th>9</th>\n",
              "      <td>CC1=C(ON=C1NS(=O)(=O)C2=CC=C(C=C2)N)C</td>\n",
              "      <td>31771</td>\n",
              "      <td>&lt;rdkit.Chem.rdchem.Mol object at 0x7c8a5a322340&gt;</td>\n",
              "    </tr>\n",
              "    <tr>\n",
              "      <th>11</th>\n",
              "      <td>CC1=CC(=C(C(=C1)C)S(=O)(=O)NC2=NOC(=C2)C)C</td>\n",
              "      <td>577223</td>\n",
              "      <td>&lt;rdkit.Chem.rdchem.Mol object at 0x7c8a5a321930&gt;</td>\n",
              "    </tr>\n",
              "    <tr>\n",
              "      <th>12</th>\n",
              "      <td>CC1=CC(=NO1)NS(=O)(=O)C2=CC=C(C=C2)OC</td>\n",
              "      <td>694829</td>\n",
              "      <td>&lt;rdkit.Chem.rdchem.Mol object at 0x7c8a5a3218c0&gt;</td>\n",
              "    </tr>\n",
              "    <tr>\n",
              "      <th>13</th>\n",
              "      <td>CC1=CC(=NO1)NS(=O)(=O)C2=CC=C(C=C2)NC(=O)C3CCCCC3</td>\n",
              "      <td>1181036</td>\n",
              "      <td>&lt;rdkit.Chem.rdchem.Mol object at 0x7c8a5a321850&gt;</td>\n",
              "    </tr>\n",
              "    <tr>\n",
              "      <th>14</th>\n",
              "      <td>CC1=C(ON=C1C)NS(=O)(=O)C2=CC=C(C=C2)NC(=O)C(C)C</td>\n",
              "      <td>678193</td>\n",
              "      <td>&lt;rdkit.Chem.rdchem.Mol object at 0x7c8a5a321770&gt;</td>\n",
              "    </tr>\n",
              "    <tr>\n",
              "      <th>15</th>\n",
              "      <td>CC(C)(C)C1=CC(=NO1)NC(=O)NC2=CC=CC=C2</td>\n",
              "      <td>2813558</td>\n",
              "      <td>&lt;rdkit.Chem.rdchem.Mol object at 0x7c8a5a320d60&gt;</td>\n",
              "    </tr>\n",
              "    <tr>\n",
              "      <th>16</th>\n",
              "      <td>C1=CC(=CC=C1S(=O)(=O)NC2=NOC=C2)Br</td>\n",
              "      <td>6470079</td>\n",
              "      <td>&lt;rdkit.Chem.rdchem.Mol object at 0x7c8a5a3206d0&gt;</td>\n",
              "    </tr>\n",
              "    <tr>\n",
              "      <th>17</th>\n",
              "      <td>CCCC(=O)NC(C(F)(F)F)(C(F)(F)F)NC1=CC=C(C=C1)S(...</td>\n",
              "      <td>536471</td>\n",
              "      <td>&lt;rdkit.Chem.rdchem.Mol object at 0x7c8a5a320ba0&gt;</td>\n",
              "    </tr>\n",
              "    <tr>\n",
              "      <th>18</th>\n",
              "      <td>CCCCC1=CC=C(C=C1)S(=O)(=O)NC2=NOC(=C2)C</td>\n",
              "      <td>562945</td>\n",
              "      <td>&lt;rdkit.Chem.rdchem.Mol object at 0x7c8a5a320b30&gt;</td>\n",
              "    </tr>\n",
              "    <tr>\n",
              "      <th>19</th>\n",
              "      <td>CC1=CC(=NO1)NS(=O)(=O)C2=CC=C(C=C2)NC(=S)NC(=O...</td>\n",
              "      <td>1949759</td>\n",
              "      <td>&lt;rdkit.Chem.rdchem.Mol object at 0x7c8a5a320ac0&gt;</td>\n",
              "    </tr>\n",
              "    <tr>\n",
              "      <th>20</th>\n",
              "      <td>CC1=CC=C(C=C1)NC(=S)NC2=NOC(=C2)C</td>\n",
              "      <td>2730383</td>\n",
              "      <td>&lt;rdkit.Chem.rdchem.Mol object at 0x7c8a5a320900&gt;</td>\n",
              "    </tr>\n",
              "    <tr>\n",
              "      <th>21</th>\n",
              "      <td>CC1=CC=C(C=C1)S(=O)(=O)NC(=O)NC2=NOC(=C2)C(C)(C)C</td>\n",
              "      <td>2813928</td>\n",
              "      <td>&lt;rdkit.Chem.rdchem.Mol object at 0x7c8a5a320510&gt;</td>\n",
              "    </tr>\n",
              "  </tbody>\n",
              "</table>\n",
              "</div>\n",
              "    <div class=\"colab-df-buttons\">\n",
              "\n",
              "  <div class=\"colab-df-container\">\n",
              "    <button class=\"colab-df-convert\" onclick=\"convertToInteractive('df-839f0748-125a-4af9-9a9b-526ab277c8ac')\"\n",
              "            title=\"Convert this dataframe to an interactive table.\"\n",
              "            style=\"display:none;\">\n",
              "\n",
              "  <svg xmlns=\"http://www.w3.org/2000/svg\" height=\"24px\" viewBox=\"0 -960 960 960\">\n",
              "    <path d=\"M120-120v-720h720v720H120Zm60-500h600v-160H180v160Zm220 220h160v-160H400v160Zm0 220h160v-160H400v160ZM180-400h160v-160H180v160Zm440 0h160v-160H620v160ZM180-180h160v-160H180v160Zm440 0h160v-160H620v160Z\"/>\n",
              "  </svg>\n",
              "    </button>\n",
              "\n",
              "  <style>\n",
              "    .colab-df-container {\n",
              "      display:flex;\n",
              "      gap: 12px;\n",
              "    }\n",
              "\n",
              "    .colab-df-convert {\n",
              "      background-color: #E8F0FE;\n",
              "      border: none;\n",
              "      border-radius: 50%;\n",
              "      cursor: pointer;\n",
              "      display: none;\n",
              "      fill: #1967D2;\n",
              "      height: 32px;\n",
              "      padding: 0 0 0 0;\n",
              "      width: 32px;\n",
              "    }\n",
              "\n",
              "    .colab-df-convert:hover {\n",
              "      background-color: #E2EBFA;\n",
              "      box-shadow: 0px 1px 2px rgba(60, 64, 67, 0.3), 0px 1px 3px 1px rgba(60, 64, 67, 0.15);\n",
              "      fill: #174EA6;\n",
              "    }\n",
              "\n",
              "    .colab-df-buttons div {\n",
              "      margin-bottom: 4px;\n",
              "    }\n",
              "\n",
              "    [theme=dark] .colab-df-convert {\n",
              "      background-color: #3B4455;\n",
              "      fill: #D2E3FC;\n",
              "    }\n",
              "\n",
              "    [theme=dark] .colab-df-convert:hover {\n",
              "      background-color: #434B5C;\n",
              "      box-shadow: 0px 1px 3px 1px rgba(0, 0, 0, 0.15);\n",
              "      filter: drop-shadow(0px 1px 2px rgba(0, 0, 0, 0.3));\n",
              "      fill: #FFFFFF;\n",
              "    }\n",
              "  </style>\n",
              "\n",
              "    <script>\n",
              "      const buttonEl =\n",
              "        document.querySelector('#df-839f0748-125a-4af9-9a9b-526ab277c8ac button.colab-df-convert');\n",
              "      buttonEl.style.display =\n",
              "        google.colab.kernel.accessAllowed ? 'block' : 'none';\n",
              "\n",
              "      async function convertToInteractive(key) {\n",
              "        const element = document.querySelector('#df-839f0748-125a-4af9-9a9b-526ab277c8ac');\n",
              "        const dataTable =\n",
              "          await google.colab.kernel.invokeFunction('convertToInteractive',\n",
              "                                                    [key], {});\n",
              "        if (!dataTable) return;\n",
              "\n",
              "        const docLinkHtml = 'Like what you see? Visit the ' +\n",
              "          '<a target=\"_blank\" href=https://colab.research.google.com/notebooks/data_table.ipynb>data table notebook</a>'\n",
              "          + ' to learn more about interactive tables.';\n",
              "        element.innerHTML = '';\n",
              "        dataTable['output_type'] = 'display_data';\n",
              "        await google.colab.output.renderOutput(dataTable, element);\n",
              "        const docLink = document.createElement('div');\n",
              "        docLink.innerHTML = docLinkHtml;\n",
              "        element.appendChild(docLink);\n",
              "      }\n",
              "    </script>\n",
              "  </div>\n",
              "\n",
              "\n",
              "    <div id=\"df-f2b62da8-cf38-4eaa-b09f-619b24fe859c\">\n",
              "      <button class=\"colab-df-quickchart\" onclick=\"quickchart('df-f2b62da8-cf38-4eaa-b09f-619b24fe859c')\"\n",
              "                title=\"Suggest charts\"\n",
              "                style=\"display:none;\">\n",
              "\n",
              "<svg xmlns=\"http://www.w3.org/2000/svg\" height=\"24px\"viewBox=\"0 0 24 24\"\n",
              "     width=\"24px\">\n",
              "    <g>\n",
              "        <path d=\"M19 3H5c-1.1 0-2 .9-2 2v14c0 1.1.9 2 2 2h14c1.1 0 2-.9 2-2V5c0-1.1-.9-2-2-2zM9 17H7v-7h2v7zm4 0h-2V7h2v10zm4 0h-2v-4h2v4z\"/>\n",
              "    </g>\n",
              "</svg>\n",
              "      </button>\n",
              "\n",
              "<style>\n",
              "  .colab-df-quickchart {\n",
              "      --bg-color: #E8F0FE;\n",
              "      --fill-color: #1967D2;\n",
              "      --hover-bg-color: #E2EBFA;\n",
              "      --hover-fill-color: #174EA6;\n",
              "      --disabled-fill-color: #AAA;\n",
              "      --disabled-bg-color: #DDD;\n",
              "  }\n",
              "\n",
              "  [theme=dark] .colab-df-quickchart {\n",
              "      --bg-color: #3B4455;\n",
              "      --fill-color: #D2E3FC;\n",
              "      --hover-bg-color: #434B5C;\n",
              "      --hover-fill-color: #FFFFFF;\n",
              "      --disabled-bg-color: #3B4455;\n",
              "      --disabled-fill-color: #666;\n",
              "  }\n",
              "\n",
              "  .colab-df-quickchart {\n",
              "    background-color: var(--bg-color);\n",
              "    border: none;\n",
              "    border-radius: 50%;\n",
              "    cursor: pointer;\n",
              "    display: none;\n",
              "    fill: var(--fill-color);\n",
              "    height: 32px;\n",
              "    padding: 0;\n",
              "    width: 32px;\n",
              "  }\n",
              "\n",
              "  .colab-df-quickchart:hover {\n",
              "    background-color: var(--hover-bg-color);\n",
              "    box-shadow: 0 1px 2px rgba(60, 64, 67, 0.3), 0 1px 3px 1px rgba(60, 64, 67, 0.15);\n",
              "    fill: var(--button-hover-fill-color);\n",
              "  }\n",
              "\n",
              "  .colab-df-quickchart-complete:disabled,\n",
              "  .colab-df-quickchart-complete:disabled:hover {\n",
              "    background-color: var(--disabled-bg-color);\n",
              "    fill: var(--disabled-fill-color);\n",
              "    box-shadow: none;\n",
              "  }\n",
              "\n",
              "  .colab-df-spinner {\n",
              "    border: 2px solid var(--fill-color);\n",
              "    border-color: transparent;\n",
              "    border-bottom-color: var(--fill-color);\n",
              "    animation:\n",
              "      spin 1s steps(1) infinite;\n",
              "  }\n",
              "\n",
              "  @keyframes spin {\n",
              "    0% {\n",
              "      border-color: transparent;\n",
              "      border-bottom-color: var(--fill-color);\n",
              "      border-left-color: var(--fill-color);\n",
              "    }\n",
              "    20% {\n",
              "      border-color: transparent;\n",
              "      border-left-color: var(--fill-color);\n",
              "      border-top-color: var(--fill-color);\n",
              "    }\n",
              "    30% {\n",
              "      border-color: transparent;\n",
              "      border-left-color: var(--fill-color);\n",
              "      border-top-color: var(--fill-color);\n",
              "      border-right-color: var(--fill-color);\n",
              "    }\n",
              "    40% {\n",
              "      border-color: transparent;\n",
              "      border-right-color: var(--fill-color);\n",
              "      border-top-color: var(--fill-color);\n",
              "    }\n",
              "    60% {\n",
              "      border-color: transparent;\n",
              "      border-right-color: var(--fill-color);\n",
              "    }\n",
              "    80% {\n",
              "      border-color: transparent;\n",
              "      border-right-color: var(--fill-color);\n",
              "      border-bottom-color: var(--fill-color);\n",
              "    }\n",
              "    90% {\n",
              "      border-color: transparent;\n",
              "      border-bottom-color: var(--fill-color);\n",
              "    }\n",
              "  }\n",
              "</style>\n",
              "\n",
              "      <script>\n",
              "        async function quickchart(key) {\n",
              "          const quickchartButtonEl =\n",
              "            document.querySelector('#' + key + ' button');\n",
              "          quickchartButtonEl.disabled = true;  // To prevent multiple clicks.\n",
              "          quickchartButtonEl.classList.add('colab-df-spinner');\n",
              "          try {\n",
              "            const charts = await google.colab.kernel.invokeFunction(\n",
              "                'suggestCharts', [key], {});\n",
              "          } catch (error) {\n",
              "            console.error('Error during call to suggestCharts:', error);\n",
              "          }\n",
              "          quickchartButtonEl.classList.remove('colab-df-spinner');\n",
              "          quickchartButtonEl.classList.add('colab-df-quickchart-complete');\n",
              "        }\n",
              "        (() => {\n",
              "          let quickchartButtonEl =\n",
              "            document.querySelector('#df-f2b62da8-cf38-4eaa-b09f-619b24fe859c button');\n",
              "          quickchartButtonEl.style.display =\n",
              "            google.colab.kernel.accessAllowed ? 'block' : 'none';\n",
              "        })();\n",
              "      </script>\n",
              "    </div>\n",
              "    </div>\n",
              "  </div>\n"
            ],
            "application/vnd.google.colaboratory.intrinsic+json": {
              "type": "dataframe",
              "variable_name": "query_results_df",
              "summary": "{\n  \"name\": \"query_results_df\",\n  \"rows\": 20,\n  \"fields\": [\n    {\n      \"column\": \"smiles\",\n      \"properties\": {\n        \"dtype\": \"string\",\n        \"num_unique_values\": 20,\n        \"samples\": [\n          \"CC1=C(ON=C1C)NS(=O)(=O)C2=CC=C(C=C2)N\",\n          \"CC1=CC(=NO1)NS(=O)(=O)C2=CC=C(C=C2)NC(=S)NC(=O)C=CC3=CC=CC=C3\",\n          \"CCCC(=O)NC(C(F)(F)F)(C(F)(F)F)NC1=CC=C(C=C1)S(=O)(=O)NC2=NOC(=C2)C\"\n        ],\n        \"semantic_type\": \"\",\n        \"description\": \"\"\n      }\n    },\n    {\n      \"column\": \"CIDs\",\n      \"properties\": {\n        \"dtype\": \"number\",\n        \"std\": 1748637,\n        \"min\": 5344,\n        \"max\": 6470079,\n        \"num_unique_values\": 20,\n        \"samples\": [\n          5344,\n          1949759,\n          536471\n        ],\n        \"semantic_type\": \"\",\n        \"description\": \"\"\n      }\n    },\n    {\n      \"column\": \"ROMol\",\n      \"properties\": {\n        \"dtype\": \"string\",\n        \"num_unique_values\": 20,\n        \"samples\": [\n          \"<rdkit.Chem.rdchem.Mol object at 0x7c8a5a3207b0>\",\n          \"<rdkit.Chem.rdchem.Mol object at 0x7c8a5a320ac0>\",\n          \"<rdkit.Chem.rdchem.Mol object at 0x7c8a5a320ba0>\"\n        ],\n        \"semantic_type\": \"\",\n        \"description\": \"\"\n      }\n    }\n  ]\n}"
            }
          },
          "metadata": {},
          "execution_count": 173
        }
      ]
    },
    {
      "cell_type": "code",
      "execution_count": 174,
      "id": "98d253be-6096-4b43-8336-1c80364e8d07",
      "metadata": {
        "id": "98d253be-6096-4b43-8336-1c80364e8d07"
      },
      "outputs": [],
      "source": [
        "#Save your data into CSV file\n",
        "query_results_df.to_csv('similar_sulfamethoxazole.csv', index=True)"
      ]
    },
    {
      "cell_type": "markdown",
      "id": "2e0ba7ef-27cf-49a2-9992-a8ef42932fe4",
      "metadata": {
        "id": "2e0ba7ef-27cf-49a2-9992-a8ef42932fe4"
      },
      "source": [
        "In the above script, query_results_df.head value is set to 6. It means, no matter how many molecules you have requested for in n_records, you will only six of them. So, it is upto you, how many do you want to display here. Change the value and re-run the last script you run."
      ]
    },
    {
      "cell_type": "markdown",
      "id": "aac6c496-069d-4a77-ad7a-2ea552db24ec",
      "metadata": {
        "id": "aac6c496-069d-4a77-ad7a-2ea552db24ec"
      },
      "source": [
        "# Show Results in Image with help of RDKit"
      ]
    },
    {
      "cell_type": "code",
      "execution_count": 181,
      "id": "167b7a55-7a44-4a28-8aa5-54af16159075",
      "metadata": {
        "id": "167b7a55-7a44-4a28-8aa5-54af16159075"
      },
      "outputs": [],
      "source": [
        "def multi_preview_smiles(query_smiles, query_name, similar_molecules_pd):\n",
        "    \"\"\"\n",
        "    Show query and similar compounds in 2D structure representation.\n",
        "\n",
        "    Parameters\n",
        "    ----------\n",
        "    query_smiles : str\n",
        "        The SMILES string of query compound.\n",
        "    query_name : str\n",
        "        The name of query compound.\n",
        "    similar_molecules_pd : pandas\n",
        "        The pandas DataFrame which contains the SMILES string and CIDs of similar molecules.\n",
        "\n",
        "    Returns\n",
        "    -------\n",
        "    MolsToGridImage\n",
        "    \"\"\"\n",
        "\n",
        "    legends = [f\"PubChem CID: {str(s)}\" for s in similar_molecules_pd[\"CIDs\"].tolist()]\n",
        "    molecules = [Chem.MolFromSmiles(s) for s in similar_molecules_pd[\"smiles\"]]\n",
        "    query_smiles = Chem.MolFromSmiles(query_smiles)\n",
        "    return MolsToGridImage(\n",
        "        [query_smiles] + molecules,\n",
        "        molsPerRow=5,\n",
        "        subImgSize=(300, 300),\n",
        "        maxMols=len(molecules) + 1,\n",
        "        legends=([query_name] + legends),\n",
        "        useSVG=True,\n",
        "    )"
      ]
    },
    {
      "cell_type": "code",
      "execution_count": 182,
      "id": "e1aadd65-c0dc-4241-93a7-ae1e709bd2ec",
      "metadata": {
        "id": "e1aadd65-c0dc-4241-93a7-ae1e709bd2ec",
        "outputId": "3ad45c59-429c-489f-939f-9e73d7d1c7e8",
        "colab": {
          "base_uri": "https://localhost:8080/"
        }
      },
      "outputs": [
        {
          "output_type": "stream",
          "name": "stdout",
          "text": [
            "The results of querying similar compounds for sulfamethoxazole:\n"
          ]
        }
      ],
      "source": [
        "print(\"The results of querying similar compounds for sulfamethoxazole:\")\n",
        "img = multi_preview_smiles(query, \"sulfamethoxazole\", query_results_df)\n",
        "with open(\"sulfamethoxazole_similar.svg\", \"w\") as f:\n",
        "    f.write(img.data)"
      ]
    },
    {
      "cell_type": "code",
      "source": [],
      "metadata": {
        "id": "49Va-XfNeggY"
      },
      "id": "49Va-XfNeggY",
      "execution_count": null,
      "outputs": []
    }
  ],
  "metadata": {
    "kernelspec": {
      "display_name": "Python 3 (ipykernel)",
      "language": "python",
      "name": "python3"
    },
    "language_info": {
      "codemirror_mode": {
        "name": "ipython",
        "version": 3
      },
      "file_extension": ".py",
      "mimetype": "text/x-python",
      "name": "python",
      "nbconvert_exporter": "python",
      "pygments_lexer": "ipython3",
      "version": "3.10.10"
    },
    "colab": {
      "provenance": []
    }
  },
  "nbformat": 4,
  "nbformat_minor": 5
}